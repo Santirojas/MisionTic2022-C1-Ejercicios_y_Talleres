{
 "cells": [
  {
   "cell_type": "markdown",
   "metadata": {},
   "source": [
    "## Ejercicio 1\n",
    "Escribir un programa que pida al usuario un número entero positivo y muestre por pantalla la cuenta atrás desde ese número hasta cero separados por comas."
   ]
  },
  {
   "cell_type": "code",
   "execution_count": 8,
   "metadata": {},
   "outputs": [
    {
     "name": "stdout",
     "output_type": "stream",
     "text": [
      "10,9,8,7,6,5,4,3,2,1,0,Despegue!!\n"
     ]
    }
   ],
   "source": [
    "def cuenta_regresiva():\n",
    "    numero=int(input('Ingrese un numero entero positivo: '))\n",
    "    mensaje=''\n",
    "    for i in range(numero,-1,-1):\n",
    "        mensaje=mensaje+','+str(i)\n",
    "    mensaje=mensaje+','+'Despegue!!'\n",
    "    mensaje=mensaje[1:]\n",
    "    return mensaje\n",
    "    \n",
    "print(cuenta_regresiva())"
   ]
  },
  {
   "cell_type": "markdown",
   "metadata": {},
   "source": [
    "## Ejercicio 2\n",
    "Escribir un programa que pida al usuario un número entero y muestre por pantalla un triángulo rectángulo como el de más abajo, de altura el número introducido.\n",
    "```\n",
    "*\n",
    "**\n",
    "***\n",
    "****\n",
    "***** "
   ]
  },
  {
   "cell_type": "code",
   "execution_count": 14,
   "metadata": {},
   "outputs": [
    {
     "name": "stdout",
     "output_type": "stream",
     "text": [
      "*\n",
      "**\n",
      "***\n",
      "****\n",
      "*****\n"
     ]
    }
   ],
   "source": [
    "def trianguloR():\n",
    "    numero=int(input('Ingrese un número entero para su triángulo rectángulo: '))\n",
    "    for i in range(1,numero+1):\n",
    "        fila='*'*i\n",
    "        print(fila) \n",
    "trianguloR() "
   ]
  },
  {
   "cell_type": "markdown",
   "metadata": {},
   "source": [
    "## Ejercicio 3\n",
    "Escribir un programa que pida al usuario un número entero y muestre por pantalla un triángulo rectángulo como el de más abajo, de altura el número introducido.\n",
    "```\n",
    "1\n",
    "3 1\n",
    "5 3 1\n",
    "7 5 3 1\n",
    "9 7 5 3 1\n",
    "```"
   ]
  },
  {
   "cell_type": "code",
   "execution_count": 25,
   "metadata": {},
   "outputs": [
    {
     "name": "stdout",
     "output_type": "stream",
     "text": [
      "1\t\n",
      "3\t1\t\n",
      "5\t3\t1\t\n",
      "7\t5\t3\t1\t\n",
      "9\t7\t5\t3\t1\t\n",
      "11\t9\t7\t5\t3\t1\t\n"
     ]
    }
   ],
   "source": [
    "def trianguloR2():\n",
    "    numero=int(input('Ingrese un número entero para su triángulo rectángulo: '))\n",
    "    fila=''\n",
    "    for i in range(0,numero+1):\n",
    "        fila=str(2*i+1)+'\\t'+fila\n",
    "        print(fila) \n",
    "trianguloR2() "
   ]
  },
  {
   "cell_type": "markdown",
   "metadata": {},
   "source": [
    "## Ejercicio 4\n",
    "Escribir un programa que muestre el eco de todo lo que el usuario introduzca hasta que el usuario escriba “salir” que terminará."
   ]
  },
  {
   "cell_type": "code",
   "execution_count": 29,
   "metadata": {},
   "outputs": [
    {
     "name": "stdout",
     "output_type": "stream",
     "text": [
      "hola\n",
      "mundo\n",
      "Fin de la aplicación\n"
     ]
    }
   ],
   "source": [
    "def eco():\n",
    "    pal=''\n",
    "    while pal!='salir':\n",
    "        pal=str(input('Ingrese una palabra:'))\n",
    "        if pal=='salir':\n",
    "            print('Fin de la aplicación')\n",
    "        else:\n",
    "            print(pal)\n",
    "eco()"
   ]
  },
  {
   "cell_type": "markdown",
   "metadata": {},
   "source": [
    "## Ejercicio 5\n",
    "Escribir un programa que cree un diccionario de traducción español-inglés. El usuario introducirá las palabras en español e inglés separadas por dos puntos, y cada par `<palabra>:<traducción>` separados por comas. El programa debe crear un diccionario con las palabras y sus traducciones. Después pedirá una frase en español y utilizará el diccionario para traducirla palabra a palabra. Si una palabra no está en el diccionario debe dejarla sin traducir."
   ]
  },
  {
   "cell_type": "code",
   "execution_count": 32,
   "metadata": {},
   "outputs": [
    {
     "data": {
      "text/plain": [
       "' how are you'"
      ]
     },
     "execution_count": 32,
     "metadata": {},
     "output_type": "execute_result"
    }
   ],
   "source": [
    "def Traductor():\n",
    "    dic={}\n",
    "    agg=str(input('Ingrese las palabras que desee, deben estar separadas por dos puntos <palabra>:<traducción> y cada par debe separarlo por una coma (,): '))\n",
    "    lista=agg.split(',')\n",
    "    for i in range(len(lista)):\n",
    "        valores=tuple(lista[i].split(':'))\n",
    "        dic[valores[0]]=valores[1]\n",
    "    frase=str(input('Ingrese la frase a traducir: '))\n",
    "    lista2=frase.split()\n",
    "    trad=''\n",
    "    for j in range(len(lista2)):\n",
    "        if lista2[j] in dic:\n",
    "            trad=trad+' '+dic[lista2[j]]\n",
    "        else:\n",
    "            trad=trad+' '\n",
    "    return trad\n",
    "Traductor()     "
   ]
  },
  {
   "cell_type": "markdown",
   "metadata": {},
   "source": [
    "## Ejercicio 6\n",
    "Escribir un programa que cree un diccionario simulando una cesta de la compra. El programa debe preguntar el artículo y su precio y añadir el par al diccionario, hasta que el usuario decida terminar. Después se debe mostrar por pantalla la lista de la compra y el coste total, con el siguiente formato:\n",
    "\n",
    "| Lista de Compra ||\n",
    "|----|----|\n",
    "| Articulo 1 | $Precio |\n",
    "| Articulo 2 | $Precio |\n",
    "| Articulo 3 | $Precio |\n",
    "| ... | ... |\n",
    "| Total | $Costo |"
   ]
  },
  {
   "cell_type": "code",
   "execution_count": 69,
   "metadata": {},
   "outputs": [
    {
     "name": "stdout",
     "output_type": "stream",
     "text": [
      "| Lista de Compra ||\n",
      "|----|----|\n",
      "| art1 | $2000.0 |\n",
      "| art2 | $3000.0 |\n",
      "| art3 | $5000.0 |\n",
      "| art4 | $8000.0 |\n",
      "| ... | ... |\n",
      "| Total | $18000.0 |\n"
     ]
    }
   ],
   "source": [
    "def listacompra():\n",
    "    dic={}\n",
    "    prod=''\n",
    "    mensaje=\"\"\"| Lista de Compra ||\n",
    "|----|----|\\n\"\"\"\n",
    "    while prod!=' ':\n",
    "        prod=str(input('Ingrese el combre del articulo, si no desea agregar más articulos presione espacio: '))\n",
    "        if prod!=' ':\n",
    "            precio=float(input(f'Ingrese el precio del artículo-> {prod}: '))\n",
    "            dic[prod]=precio\n",
    "    total=sum(dic.values())\n",
    "    for k,v in dic.items():\n",
    "        mensaje=mensaje + f\"| {k} | ${v} |\\n\"\n",
    "    mensaje=mensaje+f\"\"\"| ... | ... |\n",
    "| Total | ${total} |\"\"\"\n",
    "    return mensaje\n",
    "print(listacompra())\n"
   ]
  },
  {
   "cell_type": "markdown",
   "metadata": {},
   "source": [
    "## Ejercicio 7\n",
    "Escribir un programa que almacene las asignaturas de un curso (por ejemplo Matemáticas, Física, Química, Historia y Lengua) en una lista y la muestre por pantalla el mensaje **\"Yo estudio `<asignatura>`\"**, donde `<asignatura>` es cada una de las asignaturas de la lista.\n"
   ]
  },
  {
   "cell_type": "code",
   "execution_count": 78,
   "metadata": {},
   "outputs": [
    {
     "name": "stdout",
     "output_type": "stream",
     "text": [
      "Yo estudio Matemácticas, Historia, Física, Química, Lengua, y Lengua\n"
     ]
    }
   ],
   "source": [
    "def asignaturas():\n",
    "    lista=[]\n",
    "    asignatura=' '\n",
    "    while asignatura!='':\n",
    "        asignatura=str(input('Ingrese una asignatura: '))\n",
    "        if asignatura!='':\n",
    "            lista.append(asignatura)\n",
    "    mensaje='Yo estudio '\n",
    "    n=len(lista)\n",
    "    for materia in lista:\n",
    "        mensaje=mensaje+f'{materia}, '\n",
    "        if lista[n-1]==materia:\n",
    "            mensaje=mensaje+f'y {materia}'\n",
    "    return mensaje\n",
    "print(asignaturas())\n",
    "    "
   ]
  },
  {
   "cell_type": "markdown",
   "metadata": {},
   "source": [
    "## Ejercicio 8\n",
    "Escribir un programa que almacene las asignaturas de un curso (por ejemplo Matemáticas, Física, Química, Historia y Lengua) en una lista, pregunte al usuario la nota que ha sacado en cada asignatura y elimine de la lista las asignaturas aprobadas. Al final el programa debe mostrar por pantalla las asignaturas que el usuario tiene que repetir.\n"
   ]
  },
  {
   "cell_type": "code",
   "execution_count": 83,
   "metadata": {},
   "outputs": [
    {
     "data": {
      "text/plain": [
       "['Química', 'Historia', 'Lengua']"
      ]
     },
     "execution_count": 83,
     "metadata": {},
     "output_type": "execute_result"
    }
   ],
   "source": [
    "def matrepetir():\n",
    "    lista=['Matemáticas', 'Física', 'Química', 'Historia' , 'Lengua']\n",
    "    lista2=lista.copy()\n",
    "    for materia in lista:\n",
    "        nota=float(input(f'Ingrese la nota definitiva de {materia}: '))\n",
    "        if nota>=3.0:\n",
    "            lista2.remove(materia)\n",
    "    return lista2\n",
    "        \n",
    "matrepetir()      "
   ]
  },
  {
   "cell_type": "markdown",
   "metadata": {},
   "source": [
    "## Ejercicio 9\n",
    "Escribir un programa que pida al usuario una palabra y muestre por pantalla si es un palíndromo."
   ]
  },
  {
   "cell_type": "code",
   "execution_count": 90,
   "metadata": {},
   "outputs": [
    {
     "name": "stdout",
     "output_type": "stream",
     "text": [
      "La palabra Ana si es un palindromo\n"
     ]
    }
   ],
   "source": [
    "def palindromo():\n",
    "    palabra=str(input('Ingrese una palabra para verificar si es un palindromo: '))\n",
    "    if palabra.lower()==palabra.lower()[::-1]:\n",
    "        print(f'La palabra {palabra} si es un palindromo')\n",
    "    else:\n",
    "        print(f'La palabra {palabra} no es un palindromo')\n",
    "palindromo()"
   ]
  },
  {
   "cell_type": "markdown",
   "metadata": {},
   "source": [
    "## Ejercicio 10\n",
    "Escribir un programa que almacene en una lista los siguientes precios, 50, 75, 46, 22, 80, 65, 8, y muestre por pantalla el menor y el mayor de los precios."
   ]
  },
  {
   "cell_type": "code",
   "execution_count": 94,
   "metadata": {},
   "outputs": [
    {
     "data": {
      "text/plain": [
       "'El precio mayor es 80 y el menor es 8'"
      ]
     },
     "execution_count": 94,
     "metadata": {},
     "output_type": "execute_result"
    }
   ],
   "source": [
    "def Mym():\n",
    "    precios=[50, 75, 46, 22, 80, 65, 8]\n",
    "    mayor=max(precios)\n",
    "    menor=min(precios)\n",
    "    return f'El precio mayor es {mayor} y el menor es {menor}'\n",
    "Mym()"
   ]
  },
  {
   "cell_type": "markdown",
   "metadata": {},
   "source": [
    "## Ejercicio 11\n",
    "Escribir un programa que pida al usuario una palabra y muestre por pantalla el número de veces que contiene cada vocal."
   ]
  },
  {
   "cell_type": "code",
   "execution_count": 122,
   "metadata": {},
   "outputs": [
    {
     "data": {
      "text/plain": [
       "'En la palabra buenas hay: 1 a, 1 e, 1 u, '"
      ]
     },
     "execution_count": 122,
     "metadata": {},
     "output_type": "execute_result"
    }
   ],
   "source": [
    "def sumavocal():\n",
    "    palabra=str(input('Ingrese una palabra para contar sus vocales: '))\n",
    "    vocales='aeiou'\n",
    "    mensaje=f'En la palabra {palabra} hay: '\n",
    "    npal=palabra.lower()\n",
    "\n",
    "    for vocal in vocales:\n",
    "        n=npal.count(vocal)\n",
    "        if n!=0:\n",
    "            mensaje=mensaje+ f'{n} {vocal}, '\n",
    "        \n",
    "    return mensaje\n",
    "sumavocal()\n",
    "    "
   ]
  },
  {
   "cell_type": "markdown",
   "metadata": {},
   "source": [
    "## Ejercicio 12\n",
    "Escribir un programa que reciba una cadena de caracteres y devuelva un diccionario con cada palabra que contiene y su frecuencia. Escribir otra función que reciba el diccionario generado con la función anterior y devuelva una tupla con la palabra más repetida y su frecuencia.\n",
    "\n"
   ]
  },
  {
   "cell_type": "code",
   "execution_count": 32,
   "metadata": {},
   "outputs": [
    {
     "data": {
      "text/plain": [
       "('una', 2)"
      ]
     },
     "execution_count": 32,
     "metadata": {},
     "output_type": "execute_result"
    }
   ],
   "source": [
    "def diccionario(cadena:str)->dict:\n",
    "    dic={}\n",
    "    lista=cadena.lower().split()\n",
    "    conjunto=set(lista)\n",
    "    for elemento in conjunto:\n",
    "        n=lista.count(elemento)\n",
    "        dic[elemento]=n\n",
    "    return dic\n",
    "def tupla(diccio:dict)->tuple:\n",
    "    mas_rep=max(diccio.items(),key=lambda x:x[1])\n",
    "    return mas_rep\n",
    "tupla(diccionario('habia una vez una iguana'))\n"
   ]
  }
 ],
 "metadata": {
  "interpreter": {
   "hash": "54b979d01b6d2c57857864e6e49e83a8c0a75cd18f2fc727f4fa39872cb8b9a7"
  },
  "kernelspec": {
   "display_name": "Python 3.10.4 64-bit",
   "language": "python",
   "name": "python3"
  },
  "language_info": {
   "codemirror_mode": {
    "name": "ipython",
    "version": 3
   },
   "file_extension": ".py",
   "mimetype": "text/x-python",
   "name": "python",
   "nbconvert_exporter": "python",
   "pygments_lexer": "ipython3",
   "version": "3.10.4"
  },
  "orig_nbformat": 4
 },
 "nbformat": 4,
 "nbformat_minor": 2
}
