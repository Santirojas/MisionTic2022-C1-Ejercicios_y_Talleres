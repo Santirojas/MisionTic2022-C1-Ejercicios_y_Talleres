{
 "cells": [
  {
   "cell_type": "code",
   "execution_count": 164,
   "metadata": {},
   "outputs": [
    {
     "name": "stdout",
     "output_type": "stream",
     "text": [
      "                           Gross Earnings\n",
      "Country        Language                  \n",
      "Aruba          English       1.007614e+07\n",
      "Australia      English       3.367852e+07\n",
      "Brazil         Portuguese    5.595428e+06\n",
      "Canada         English       1.771869e+07\n",
      "               French        9.473382e+06\n",
      "China          English       4.398423e+07\n",
      "Czech Republic English       2.060953e+06\n",
      "Denmark        Danish        1.647780e+06\n",
      "               English       2.221994e+06\n",
      "France         English       1.876274e+07\n"
     ]
    }
   ],
   "source": [
    "import pandas as pd\n",
    "\n",
    "rutaFileCsv ='https://github.com/luisguillermomolero/MisionTIC2022_2/blob/master/Modulo1_Python_MisionTIC2022_Main/Semana_5/Reto/movies.csv?raw=true'\n",
    "def listaPeliculas(rutaFileCsv: str) -> str:\n",
    "    if 'csv' in rutaFileCsv:\n",
    "        try:\n",
    "            movies=pd.read_csv(rutaFileCsv)\n",
    "            resumen=movies[['Country','Language','Gross Earnings']]\n",
    "            datos_solicitados=resumen.pivot_table(index=['Country','Language']).head(10)\n",
    "            return datos_solicitados\n",
    "        except:\n",
    "            print(\"Error al leer el archivo de datos.\") \n",
    "    else:\n",
    "        print(\"Extensión inválida.\")\n",
    "    return\n",
    "  \n",
    "print(listaPeliculas(rutaFileCsv))"
   ]
  },
  {
   "cell_type": "code",
   "execution_count": 169,
   "metadata": {},
   "outputs": [
    {
     "name": "stdout",
     "output_type": "stream",
     "text": [
      "                           Gross Earnings\n",
      "Country        Language                  \n",
      "Aruba          English       1.007614e+07\n",
      "Australia      English       3.367852e+07\n",
      "Brazil         Portuguese    5.595428e+06\n",
      "Canada         English       1.771869e+07\n",
      "               French        9.473382e+06\n",
      "China          English       4.398423e+07\n",
      "Czech Republic English       2.060953e+06\n",
      "Denmark        Danish        1.647780e+06\n",
      "               English       2.221994e+06\n",
      "France         English       1.876274e+07\n"
     ]
    }
   ],
   "source": [
    "import pandas as pd\n",
    "\n",
    "rutaFileCsv ='https://github.com/luisguillermomolero/MisionTIC2022_2/blob/master/Modulo1_Python_MisionTIC2022_Main/Semana_5/Reto/movies.csv?raw=true'\n",
    "def listaPeliculas(rutaFileCsv: str) -> str:\n",
    "    if 'csv' in rutaFileCsv:\n",
    "            try:\n",
    "                movies=pd.read_csv(rutaFileCsv)\n",
    "                resumen=movies.loc[:,('Country','Language','Gross Earnings')]\n",
    "                res=resumen.copy()\n",
    "                res.drop(res[res['Gross Earnings'].isnull()].index,inplace=True)\n",
    "                datos_solicitados=res.groupby(['Country','Language']).mean('Gross Earnings').head(10)\n",
    "                return datos_solicitados\n",
    "            except:\n",
    "                print(\"Error al leer el archivo de datos.\") \n",
    "    else:\n",
    "        print(\"Extensión inválida.\")\n",
    "    return\n",
    "print(listaPeliculas(rutaFileCsv))\n"
   ]
  }
 ],
 "metadata": {
  "interpreter": {
   "hash": "30d6748b377d800c11ac64a66a789c1c108c9a21e00572a38630db701d7c9fd8"
  },
  "kernelspec": {
   "display_name": "Python 3.9.12 ('base')",
   "language": "python",
   "name": "python3"
  },
  "language_info": {
   "codemirror_mode": {
    "name": "ipython",
    "version": 3
   },
   "file_extension": ".py",
   "mimetype": "text/x-python",
   "name": "python",
   "nbconvert_exporter": "python",
   "pygments_lexer": "ipython3",
   "version": "3.9.12"
  },
  "orig_nbformat": 4
 },
 "nbformat": 4,
 "nbformat_minor": 2
}
