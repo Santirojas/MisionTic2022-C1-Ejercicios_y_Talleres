{
 "cells": [
  {
   "cell_type": "markdown",
   "metadata": {},
   "source": [
    "## Ejercicio 1\n",
    "Leer un número entero de dos dígitos y determinar si ambos dígitos son pares."
   ]
  },
  {
   "cell_type": "code",
   "execution_count": 11,
   "metadata": {},
   "outputs": [
    {
     "data": {
      "text/plain": [
       "'Ambos dígitos del número 22 son pares'"
      ]
     },
     "execution_count": 11,
     "metadata": {},
     "output_type": "execute_result"
    }
   ],
   "source": [
    "def NumeroEntero(a:int):\n",
    "    a=str(a)\n",
    "    n1=int(a[0])\n",
    "    n2=int(a[1])\n",
    "    if n1%2==0 and n2%2==0:\n",
    "        mensaje=f'Ambos dígitos del número {a} son pares'\n",
    "    else:\n",
    "        mensaje=f'Al menos uno de los dígitos del número {a} no es par'\n",
    "    return mensaje \n",
    "NumeroEntero(22)\n",
    "    "
   ]
  },
  {
   "cell_type": "markdown",
   "metadata": {},
   "source": [
    "## Ejercicio 2\n",
    "A un trabajador le pagan según sus horas trabajadas por una tarifa de pago por hora. Si la cantidad de horas trabajadas es mayor 40 horas. La tarifa se incrementa en un 50% para las horas  extras.  Calcular  el  salario  del  trabajador  dadas  las  horas  trabajadas  y  la  tarifa ingresadas por el usuario."
   ]
  },
  {
   "cell_type": "code",
   "execution_count": 14,
   "metadata": {},
   "outputs": [
    {
     "data": {
      "text/plain": [
       "950000.0"
      ]
     },
     "execution_count": 14,
     "metadata": {},
     "output_type": "execute_result"
    }
   ],
   "source": [
    "def Tarifa(horas,tarifa):\n",
    "    if horas<=40:\n",
    "        pago=horas*tarifa\n",
    "    else:\n",
    "        extra=horas-40\n",
    "        pago=40*tarifa+(extra*tarifa*1.5)\n",
    "    return pago\n",
    "Tarifa(45,20000)\n",
    "        "
   ]
  },
  {
   "cell_type": "markdown",
   "metadata": {},
   "source": [
    "## Ejercicio 3\n",
    "Hacer un algoritmo que calcule el total a pagar por la compra de camisas. Si se compran tres  camisas  o  más  se  aplica  un  descuento  del  20%  sobre  el  total  de  la  compra  y  si  son menos de tres camisas un descuento del 10%"
   ]
  },
  {
   "cell_type": "code",
   "execution_count": 18,
   "metadata": {},
   "outputs": [
    {
     "data": {
      "text/plain": [
       "72000.0"
      ]
     },
     "execution_count": 18,
     "metadata": {},
     "output_type": "execute_result"
    }
   ],
   "source": [
    "def Compra(a:dict):\n",
    "    contador=0\n",
    "    total=0\n",
    "    for camisas,precio in a.items():\n",
    "        contador=contador+1\n",
    "        total=total+precio \n",
    "    if contador>=3:\n",
    "        total=total*0.8    \n",
    "    else:\n",
    "        total=total*0.9\n",
    "    return total \n",
    "\n",
    "a={'camisa1':50000,'camisa2':30000,'camisa3':20000,'camisa':60000}\n",
    "b={'camisa1':50000,'camisa2':30000,'camisa3':20000}\n",
    "c={'camisa1':50000,'camisa2':30000}\n",
    "Compra(c)"
   ]
  },
  {
   "cell_type": "markdown",
   "metadata": {},
   "source": [
    "## Ejercicio 4\n",
    "Escribir un programa que pregunte el nombre del usuario en la consola y un número entero e imprima por pantalla en líneas distintas el nombre del usuario tantas veces como el número introducido."
   ]
  },
  {
   "cell_type": "code",
   "execution_count": 29,
   "metadata": {},
   "outputs": [
    {
     "name": "stdout",
     "output_type": "stream",
     "text": [
      "1. Santiago\n",
      "2. Santiago\n",
      "3. Santiago\n",
      "4. Santiago\n",
      "5. Santiago\n",
      "6. Santiago\n",
      "7. Santiago\n"
     ]
    }
   ],
   "source": [
    "def Nombrerept():\n",
    "    nombre=input('Ingrese su nombre')\n",
    "    cantidad=int(input('Ingrese el número de veces quje quiera que se repita su nombre'))\n",
    "    for i in range(cantidad):\n",
    "        print (f'{i+1}. {nombre}')\n",
    "Nombrerept()"
   ]
  },
  {
   "cell_type": "markdown",
   "metadata": {},
   "source": [
    "## Ejercicio 5\n",
    "Escribir un programa que pregunte el nombre del usuario en la consola y después de que el usuario lo introduzca muestre por pantalla \"`<NOMBRE>` tiene `<n>` letras\", donde `<NOMBRE>` es el nombre de usuario en mayúsculas y `<n>` es el número de letras que tienen el nombre."
   ]
  },
  {
   "cell_type": "code",
   "execution_count": 7,
   "metadata": {},
   "outputs": [
    {
     "name": "stdout",
     "output_type": "stream",
     "text": [
      "SANTIAGO tiene 8 letras\n"
     ]
    }
   ],
   "source": [
    "def letrasnombre(): \n",
    "    nombre=str(input('Ingrese su nombre: '))\n",
    "    nombre=nombre.upper()\n",
    "    n=len(nombre)\n",
    "    return f'{nombre} tiene {n} letras'\n",
    "\n",
    "print(letrasnombre())\n",
    "    "
   ]
  },
  {
   "cell_type": "markdown",
   "metadata": {},
   "source": [
    "## Ejercicio 6\n",
    "Los teléfonos de una empresa tienen el siguiente formato prefijo-número-extension donde el prefijo es el código del país +57, y la extensión tiene dos dígitos (por ejemplo +57-313724710-56). Escribir un programa que pregunte por un número de teléfono con este formato y muestre por pantalla el número de teléfono sin el prefijo y la extensión."
   ]
  },
  {
   "cell_type": "code",
   "execution_count": 12,
   "metadata": {},
   "outputs": [
    {
     "name": "stdout",
     "output_type": "stream",
     "text": [
      "313724710\n"
     ]
    }
   ],
   "source": [
    "def telefono(tel:str):\n",
    "    num=tel.split('-')\n",
    "    telefono=num[1]\n",
    "    return telefono\n",
    "print(telefono('+57-313724710-56'))"
   ]
  },
  {
   "cell_type": "code",
   "execution_count": 11,
   "metadata": {},
   "outputs": [
    {
     "data": {
      "text/plain": [
       "'313724710'"
      ]
     },
     "execution_count": 11,
     "metadata": {},
     "output_type": "execute_result"
    }
   ],
   "source": [
    " telefono='+57-313724710-56'\n",
    " num=telefono.split('-')\n",
    " telefono=num[1]\n",
    " telefono"
   ]
  },
  {
   "cell_type": "markdown",
   "metadata": {},
   "source": [
    "## Ejercicio 7\n",
    "Hacer un programa que pida al usuario las tres notas de un alumno (deben estar entre 0 y 5 y pueden tener decimales) y calcule el promedio e indique mediante un mensaje si aprobó o no (aprueba con nota mayor a 3). Se debe validar que las notas introducidas estén dentro del rango permitido."
   ]
  },
  {
   "cell_type": "code",
   "execution_count": 50,
   "metadata": {},
   "outputs": [
    {
     "name": "stdout",
     "output_type": "stream",
     "text": [
      "Aprueba con 3.3333333333333335\n"
     ]
    }
   ],
   "source": [
    "def rango()->float:\n",
    "    a=float(input('Ingrese la nota'))\n",
    "    while a>5 or a<0:\n",
    "        print('La nota ingresada está fuera del rango')\n",
    "        a=float(input('Ingrese la nota'))\n",
    "    return float(a)\n",
    "    \n",
    "\n",
    "def notas():\n",
    "    nota1=rango()\n",
    "    nota2=rango()\n",
    "    nota3=rango()\n",
    "    promedio=(nota1+nota2+nota3)/3\n",
    "    if promedio>3:\n",
    "        return print(f'Aprueba con {promedio}')\n",
    "    else:\n",
    "        return print(f'Reprueba con {promedio}')  \n",
    "    "
   ]
  },
  {
   "cell_type": "markdown",
   "metadata": {},
   "source": [
    "## Ejercicio 8\n",
    "Crear un algoritmo que indique el valor del descuento de un artículo dependiendo de su valor:\n",
    "\n",
    "| Rango de valores | Descuento |\n",
    "|--|--|\n",
    "| $0 hasta $100.000 | 0% |\n",
    "|mas de $100.000 hasta $225.000| 1.5% |\n",
    "|mas de $225.000 hasta $375.000| 3.8% |\n",
    "|mas de $375.000 | 1.5% |"
   ]
  },
  {
   "cell_type": "code",
   "execution_count": 52,
   "metadata": {},
   "outputs": [
    {
     "data": {
      "text/plain": [
       "19000.0"
      ]
     },
     "execution_count": 52,
     "metadata": {},
     "output_type": "execute_result"
    }
   ],
   "source": [
    "def descuento(valor):\n",
    "    if valor<0:\n",
    "        print('El valor ingresado')\n",
    "    elif valor>=0 and valor <=100000:\n",
    "        descuento=0\n",
    "    elif valor>100000 and valor <=225000:\n",
    "        descuento=valor*0.015\n",
    "    elif valor>225000 and valor <=375000:\n",
    "        descuento=valor*0.038\n",
    "    elif valor>375000:\n",
    "        descuento=valor*0.038\n",
    "    return descuento\n",
    "descuento(500000)"
   ]
  },
  {
   "cell_type": "markdown",
   "metadata": {},
   "source": [
    "## Ejercicio 9\n",
    "Crear un algoritmo que permita saber si una ecuación cuadrática tiene o no solución.Recuerde que una ecuación cuadrática se define como:\n",
    "\n",
    "![x=\\frac{-b\\pm\\sqrt{b^{2}-4ac} }{2a}](https://latex.codecogs.com/png.image?\\dpi{140}\\bg{white}x=\\frac{-b\\pm\\sqrt{b^{2}-4ac}}{2a})\n",
    "\n",
    "Y se dice que tiene solución si el valor del discriminaste (que corresponde al cálculo interno de la raíz cuadrada ___b**2−4ac___) es mayor o igual a cero y el valor de *a* es diferente de cero."
   ]
  },
  {
   "cell_type": "code",
   "execution_count": 27,
   "metadata": {},
   "outputs": [
    {
     "name": "stdout",
     "output_type": "stream",
     "text": [
      "El coeficiente a no puede ser cero\n"
     ]
    }
   ],
   "source": [
    "def raices(a,b,c):\n",
    "    if a==0:\n",
    "        print('El coeficiente a no puede ser cero')\n",
    "    else:\n",
    "        discriminate=b**2-4*a*c\n",
    "        if discriminate>=0:\n",
    "            x1=(-b+(discriminate**(1/2)))/(2*a)\n",
    "            x2=(-b-(discriminate**(1/2)))/(2*a)\n",
    "            mensaje=f'La ecuación cuadratica tiene solución en el campo de los reales, las cuales son x1={x1} y x2={x2}'\n",
    "        else:\n",
    "            c1=-b/(2*a)\n",
    "            co=(((abs(discriminate))**(1/2))/(2*a))\n",
    "            x1=complex(c1,co)\n",
    "            x2=complex(c1,-co)\n",
    "            mensaje=f'La ecuación cuadratica tiene solución en el campo de los imaginarios, las cuales son x1={x1} y x2={x2}'\n",
    "        return mensaje\n",
    "raices(0,1,4)"
   ]
  },
  {
   "cell_type": "markdown",
   "metadata": {},
   "source": [
    "## Ejercicio 10\n",
    "Escribir un programa que pregunte al usuario la fecha de su nacimiento en formato **'dd/mm/aaaa'** y calcule el dia de la semana que nació. [Ver el algoritmo aquí](https://www.gaussianos.com/como-calcular-que-dia-de-la-semana-fue/)"
   ]
  },
  {
   "cell_type": "code",
   "execution_count": 98,
   "metadata": {},
   "outputs": [],
   "source": [
    "def siglo(ano):\n",
    "    \n",
    "    if ano>=2000 and ano<=2099:\n",
    "        A=0\n",
    "    elif ano<2000:\n",
    "        dif=(2000-ano)\n",
    "        if ano%100==0:\n",
    "            n=dif/100\n",
    "            A=(2*n-1)\n",
    "        else:\n",
    "            div=dif/100\n",
    "            n=int(div)\n",
    "            A=(2*n+1)\n",
    "    elif ano>2099:\n",
    "        dif=ano-2000\n",
    "        if ano%100==0:\n",
    "            n=dif/100\n",
    "            A=-2*n\n",
    "        else:\n",
    "            div=dif/100\n",
    "            n=int(div)\n",
    "            A=-2*n\n",
    "    return A\n",
    "        \n",
    "        "
   ]
  },
  {
   "cell_type": "code",
   "execution_count": 99,
   "metadata": {},
   "outputs": [],
   "source": [
    "def ano(ano:int):\n",
    "    ano=str(ano)\n",
    "    l=len(ano)\n",
    "    cifras=int(ano[l-2:l])\n",
    "    B=int(cifras/4)+cifras\n",
    "    return B"
   ]
  },
  {
   "cell_type": "code",
   "execution_count": 100,
   "metadata": {},
   "outputs": [],
   "source": [
    "def bisiesto(ano,mes):\n",
    "    an=str(ano)\n",
    "    l=len(an)\n",
    "    cifras=int(an[l-2:l])\n",
    "    if (ano)%400==0:\n",
    "        Bis=True\n",
    "    elif  cifras!=0 and cifras%4==0:\n",
    "        Bis=True\n",
    "    else:\n",
    "        Bis=False\n",
    "        \n",
    "    if Bis==True and (mes=='Enero' or mes=='Febrero'):\n",
    "        C=-1\n",
    "    else:\n",
    "        C=0\n",
    "    return C"
   ]
  },
  {
   "cell_type": "code",
   "execution_count": 101,
   "metadata": {},
   "outputs": [],
   "source": [
    "def mes(mes:str):\n",
    "    if mes=='Enero':\n",
    "        D=6\n",
    "    elif mes=='Febrero' or mes=='Marzo' or mes=='Noviembre':\n",
    "        D=2\n",
    "    elif mes=='Abril' or mes=='Julio':\n",
    "        D=5\n",
    "    elif mes=='Mayo':\n",
    "        D=0\n",
    "    elif mes=='Junio':\n",
    "        d=3\n",
    "    elif mes=='Agosto':\n",
    "        D=1\n",
    "    elif mes=='Septiembre' or mes=='Diciembre':\n",
    "        D=4\n",
    "    elif mes=='Octubre':\n",
    "        D=6\n",
    "    return D\n",
    "    "
   ]
  },
  {
   "cell_type": "code",
   "execution_count": 102,
   "metadata": {},
   "outputs": [],
   "source": [
    "def dia(dia):\n",
    "    E=dia\n",
    "    return E"
   ]
  },
  {
   "cell_type": "code",
   "execution_count": 103,
   "metadata": {},
   "outputs": [],
   "source": [
    "def semana(d):\n",
    "    sem={1:'Lunes',2:'Martes',3:'Miércoles',4:'Jueves',5:'Viernes',6:'Sábado',0:'Domingo'}\n",
    "    dia=sem[d]\n",
    "    return dia\n",
    "        "
   ]
  },
  {
   "cell_type": "code",
   "execution_count": 108,
   "metadata": {},
   "outputs": [],
   "source": [
    "def dia_semana(A,B,C,D,E):\n",
    "    suma=A+B+C+D+E\n",
    "    if suma<=6 and suma>=0:\n",
    "        return suma\n",
    "    elif suma>6:\n",
    "        while suma>6:\n",
    "            suma=suma-7\n",
    "        return suma"
   ]
  },
  {
   "cell_type": "code",
   "execution_count": 105,
   "metadata": {},
   "outputs": [],
   "source": [
    "def meses_ano(mes):\n",
    "    meses={1:'Enero',2:'Febrero',3:'Marzo',4:'Abril',5:'Mayo',6:'Junio',7:'Julio',8:'Agosto',9:'Septiembre',10:'Octubre',11:'Noviembre',12:'Diciembre'}\n",
    "    mm=meses[mes]\n",
    "    return mm"
   ]
  },
  {
   "cell_type": "code",
   "execution_count": 109,
   "metadata": {},
   "outputs": [],
   "source": [
    "def fecha():\n",
    "    data=str(input('Ingrese su fecha de nacimiento en el formato dd/mm/aaaa: '))\n",
    "    f=data.split('/')\n",
    "    dd=int(f[0])\n",
    "    mm=int(f[1])\n",
    "    ms=meses_ano(mm)\n",
    "    aa=int(f[2])\n",
    "    A=siglo(aa)\n",
    "    B=ano(aa)\n",
    "    C=bisiesto(aa,ms)\n",
    "    D=mes(ms)\n",
    "    E=dia(dd)\n",
    "    suma_dias=dia_semana(A,B,C,D,E)\n",
    "    d_semana=semana(suma_dias)\n",
    "    return f'El día de la semana que usted nació fue un {d_semana}'"
   ]
  },
  {
   "cell_type": "code",
   "execution_count": 110,
   "metadata": {},
   "outputs": [
    {
     "name": "stdout",
     "output_type": "stream",
     "text": [
      "El día de la semana que usted nació fue un Domingo\n"
     ]
    }
   ],
   "source": [
    "print(fecha())"
   ]
  },
  {
   "cell_type": "code",
   "execution_count": 111,
   "metadata": {},
   "outputs": [
    {
     "name": "stdout",
     "output_type": "stream",
     "text": [
      "El día de la semana que usted nació fue un Martes\n"
     ]
    }
   ],
   "source": [
    "print(fecha())"
   ]
  },
  {
   "cell_type": "code",
   "execution_count": null,
   "metadata": {},
   "outputs": [],
   "source": []
  }
 ],
 "metadata": {
  "interpreter": {
   "hash": "8c932982cbcc3bdd3818bd24ee85713fe2bb1c09f17105e4acffe1671bc1050b"
  },
  "kernelspec": {
   "display_name": "Python 3.7.3 ('base')",
   "language": "python",
   "name": "python3"
  },
  "language_info": {
   "codemirror_mode": {
    "name": "ipython",
    "version": 3
   },
   "file_extension": ".py",
   "mimetype": "text/x-python",
   "name": "python",
   "nbconvert_exporter": "python",
   "pygments_lexer": "ipython3",
   "version": "3.7.3"
  },
  "orig_nbformat": 4
 },
 "nbformat": 4,
 "nbformat_minor": 2
}
