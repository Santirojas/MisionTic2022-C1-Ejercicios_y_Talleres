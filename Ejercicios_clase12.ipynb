{
 "cells": [
  {
   "cell_type": "markdown",
   "metadata": {},
   "source": [
    "## Ejericios clase 12"
   ]
  },
  {
   "cell_type": "markdown",
   "metadata": {},
   "source": [
    "## List Comprehension\n",
    "\n",
    "### Ejercicio 1\n",
    "Necesitamos crear una lista de enteros que contenga la longitud de cada palabra en una frase, pero solo si la palabra no es \"el\".  \n",
    "La frase es: `\"el rápido zorro marrón salta sobre el perro perezoso\"`\n"
   ]
  },
  {
   "cell_type": "code",
   "execution_count": 17,
   "metadata": {},
   "outputs": [
    {
     "name": "stdout",
     "output_type": "stream",
     "text": [
      "[6, 5, 6, 5, 5, 5, 8]\n"
     ]
    }
   ],
   "source": [
    "frase1='el rápido zorro marrón salta sobre el perro perezoso'\n",
    "def longitud_palabra(frase:str)->list:\n",
    "    return [len(x) for x in frase.split() if x!='el']\n",
    "\n",
    "print(longitud_palabra(frase1))"
   ]
  },
  {
   "cell_type": "markdown",
   "metadata": {},
   "source": [
    "### Ejercicio 2\n",
    "Crea una nueva lista que a partir de otra lista de números que contenga solo los números positivos de la lista, como enteros.  \n",
    "La lista es `numeros = [34.6, -203.4, 44.9, 68.3, -12.2, 44.6, 12.7]`"
   ]
  },
  {
   "cell_type": "code",
   "execution_count": 18,
   "metadata": {},
   "outputs": [
    {
     "name": "stdout",
     "output_type": "stream",
     "text": [
      "[34.6, 44.9, 68.3, 44.6, 12.7]\n"
     ]
    }
   ],
   "source": [
    "def numeros_positivos(lista:list)->list:\n",
    "    return [x for x  in lista if x>=0]\n",
    "numeros = [34.6, -203.4, 44.9, 68.3, -12.2, 44.6, 12.7]\n",
    "print(numeros_positivos(numeros))"
   ]
  },
  {
   "cell_type": "markdown",
   "metadata": {},
   "source": [
    "### Ejercicio 3\n",
    "Extraiga en un conjunto los dígitos que existen en una frase. La frase es `\"Hello 12345 World 5602\"`"
   ]
  },
  {
   "cell_type": "code",
   "execution_count": 2,
   "metadata": {},
   "outputs": [
    {
     "name": "stdout",
     "output_type": "stream",
     "text": [
      "{'3', '0', '1', '4', '6', '5', '2'}\n"
     ]
    }
   ],
   "source": [
    "def digitos_conjunto(frase:str)->set:\n",
    "    return {x for x in frase if x in '0123456789'}\n",
    "f=\"Hello 12345 World 5602\"\n",
    "print(digitos_conjunto(f))"
   ]
  },
  {
   "cell_type": "markdown",
   "metadata": {},
   "source": [
    "### Ejercicio 4\n",
    "Que valores generan las siguientes List Comprehensions\n",
    "* `[x**2 for x in range(10)]`\n",
    "* `[2**i for i in range(13)]`"
   ]
  },
  {
   "cell_type": "code",
   "execution_count": 4,
   "metadata": {},
   "outputs": [
    {
     "name": "stdout",
     "output_type": "stream",
     "text": [
      "[0, 1, 4, 9, 16, 25, 36, 49, 64, 81]\n",
      "[1, 2, 4, 8, 16, 32, 64, 128, 256, 512, 1024, 2048, 4096]\n"
     ]
    }
   ],
   "source": [
    "print([x**2 for x in range(10)])\n",
    "print([2**i for i in range(13)])"
   ]
  },
  {
   "cell_type": "markdown",
   "metadata": {},
   "source": [
    "### Ejercicio 5\n",
    "Cual sería la expresión List Comprehension para generar la siguiente lista: `[0, 1, 8, 27, 64, 125, 216, 343, 512, 729, 1000]`"
   ]
  },
  {
   "cell_type": "code",
   "execution_count": 6,
   "metadata": {},
   "outputs": [
    {
     "name": "stdout",
     "output_type": "stream",
     "text": [
      "[0, 1, 8, 27, 64, 125, 216, 343, 512, 729, 1000]\n"
     ]
    }
   ],
   "source": [
    "print([x**3 for x in range(11)])"
   ]
  },
  {
   "cell_type": "markdown",
   "metadata": {},
   "source": [
    "### Ejercicio 6\n",
    "Con la lista `frutas = ['mango', 'kiwi', 'fresa', 'guayaba', 'piña', 'mandarina', 'uva', 'banano']`generar otra con la cantidad de caracteres que tiene cada fruta: `[5, 4, 5, ...]"
   ]
  },
  {
   "cell_type": "code",
   "execution_count": 7,
   "metadata": {},
   "outputs": [
    {
     "name": "stdout",
     "output_type": "stream",
     "text": [
      "[5, 4, 5, 7, 4, 9, 3, 6]\n"
     ]
    }
   ],
   "source": [
    "frutas = ['mango', 'kiwi', 'fresa', 'guayaba', 'piña', 'mandarina', 'uva', 'banano']\n",
    "print([len(x) for x in frutas])"
   ]
  },
  {
   "cell_type": "markdown",
   "metadata": {},
   "source": [
    "### Ejercicio 7\n",
    "Con la lista `frutas = ['mango', 'kiwi', 'fresa', 'guayaba', 'piña', 'mandarina', 'uva', 'banano']`generar otra con las frutas que solo tengan exactamente 2 vocales: `['mango', 'kiwi', ...]`."
   ]
  },
  {
   "cell_type": "code",
   "execution_count": 14,
   "metadata": {},
   "outputs": [
    {
     "name": "stdout",
     "output_type": "stream",
     "text": [
      "['mango', 'kiwi', 'fresa', 'piña', 'uva']\n"
     ]
    }
   ],
   "source": [
    "frutas = ['mango', 'kiwi', 'fresa', 'guayaba', 'piña', 'mandarina', 'uva', 'banano']\n",
    "print([x for x in frutas if len(list(filter(lambda x: x if x in 'aeiou' else None, list(x))))==2])"
   ]
  },
  {
   "cell_type": "markdown",
   "metadata": {},
   "source": [
    "### Ejercicio 8 - Especial \n",
    "Crear una lista con los números primos que existen entre el 2 y el 100."
   ]
  },
  {
   "cell_type": "code",
   "execution_count": 71,
   "metadata": {},
   "outputs": [
    {
     "name": "stdout",
     "output_type": "stream",
     "text": [
      "[2, 3, 5, 7, 11, 13, 17, 19, 23, 29, 31, 37, 41, 43, 47, 53, 59, 61, 67, 71, 73, 79, 83, 89, 97]\n"
     ]
    }
   ],
   "source": [
    "print([x for x in range(2,100) if all(list(map(lambda y: x%y!=0,list(range(2,x)))))])"
   ]
  },
  {
   "cell_type": "markdown",
   "metadata": {},
   "source": [
    "## Funciones map(), reduce(), filter()\n",
    "### Ejercicio 9\n",
    "Usando las funciones map(), reduce(), filter()\n"
   ]
  },
  {
   "cell_type": "code",
   "execution_count": 2,
   "metadata": {},
   "outputs": [
    {
     "name": "stdout",
     "output_type": "stream",
     "text": [
      "[18.92, 37.09, 10.56, 95.45, 4.67, 78.85, 21.07]\n"
     ]
    }
   ],
   "source": [
    "from functools import reduce \n",
    "# Utilice map() para imprimir el cuadrado de cada número redondeado\n",
    "# a tres lugares decimales\n",
    "my_floats = [4.35, 6.09, 3.25, 9.77, 2.16, 8.88, 4.59]\n",
    "map_result = list(map(lambda x: round(x**2,2), my_floats)) # Arreglar esta instrucción\n",
    "print(map_result)\n"
   ]
  },
  {
   "cell_type": "code",
   "execution_count": 4,
   "metadata": {},
   "outputs": [
    {
     "name": "stdout",
     "output_type": "stream",
     "text": [
      "['olumide', 'josiah', 'omoseun']\n"
     ]
    }
   ],
   "source": [
    "# Utilice filter() para imprimir solo los nombres que sean menores\n",
    "# o iguales a siete letras\n",
    "my_names = [\"olumide\", \"akinremi\", \"josiah\", \"temidayo\", \"omoseun\"]\n",
    "filter_result = list(filter(lambda name: len(name)<=7, my_names)) # Arreglar esta instrucción\n",
    "print(filter_result)"
   ]
  },
  {
   "cell_type": "code",
   "execution_count": 5,
   "metadata": {},
   "outputs": [
    {
     "name": "stdout",
     "output_type": "stream",
     "text": [
      "24840\n"
     ]
    }
   ],
   "source": [
    "# Utilice reduce() para imprimir el producto de estos números\n",
    "my_numbers = [4, 6, 9, 23, 5]\n",
    "reduce_result = reduce(lambda num1, num2: num1 * num2, my_numbers) # Arreglar esta instrucción\n",
    "print(reduce_result)"
   ]
  },
  {
   "cell_type": "markdown",
   "metadata": {},
   "source": [
    "## Funciones all(), any()\n",
    "### Ejercicio 10\n",
    "Se recibe una lista de números enteros separados por espacios: Si todos los enteros son positivos, se debe revisar si algún entero es un número palíndromo como se muestra a continuación https://en.wikipedia.org/wiki/Palindromic_number. Se imprime la palabra ‘True’ si se cumplen las condiciones o ‘False’ de lo contrario.\n",
    "Ejemplos:\n",
    "* Para `[10, 30, 50, 90, 100, 101]` imprime `True`\n",
    "* Para `[10, 20, 30, 400, 50, 100]` imprime `False`\n",
    "* Para `[1, 2, 3, 4, 5, 6, 7, 8, 9]` imprime `True`\n",
    "* Para `[151, 60, -5, 135, 18, 40]` imprime `False`"
   ]
  },
  {
   "cell_type": "code",
   "execution_count": 10,
   "metadata": {},
   "outputs": [],
   "source": [
    "def numerospal(lista):\n",
    "    return any(list(map(lambda x: True if all(map(lambda x:x>=0,lista)) and str(x)==str(x)[::-1] else False,lista)))"
   ]
  },
  {
   "cell_type": "code",
   "execution_count": 12,
   "metadata": {},
   "outputs": [
    {
     "name": "stdout",
     "output_type": "stream",
     "text": [
      "True\n",
      "False\n",
      "True\n",
      "False\n"
     ]
    }
   ],
   "source": [
    "Lista1=[10, 30, 50, 90, 100, 101]\n",
    "print(numerospal(Lista1))\n",
    "\n",
    "Lista2=[10, 20, 30, 400, 50, 100]\n",
    "print(numerospal(Lista2))\n",
    "\n",
    "Lista3=[1, 2, 3, 4, 5, 6, 7, 8, 9]\n",
    "print(numerospal(Lista3))\n",
    "\n",
    "Lista4=[151, 60, -5, 135, 18, 40]\n",
    "print(numerospal(Lista4))\n"
   ]
  },
  {
   "cell_type": "code",
   "execution_count": null,
   "metadata": {},
   "outputs": [],
   "source": []
  }
 ],
 "metadata": {
  "kernelspec": {
   "display_name": "Python 3.9.12 ('base')",
   "language": "python",
   "name": "python3"
  },
  "language_info": {
   "codemirror_mode": {
    "name": "ipython",
    "version": 3
   },
   "file_extension": ".py",
   "mimetype": "text/x-python",
   "name": "python",
   "nbconvert_exporter": "python",
   "pygments_lexer": "ipython3",
   "version": "3.9.12"
  },
  "orig_nbformat": 4,
  "vscode": {
   "interpreter": {
    "hash": "30d6748b377d800c11ac64a66a789c1c108c9a21e00572a38630db701d7c9fd8"
   }
  }
 },
 "nbformat": 4,
 "nbformat_minor": 2
}
