{
 "cells": [
  {
   "cell_type": "code",
   "execution_count": 25,
   "metadata": {},
   "outputs": [],
   "source": [
    "def AutoPartes(ventas:list):\n",
    "    dic={}\n",
    "    l=len(ventas)\n",
    "    for i in range(l):\n",
    "        dic[i]=ventas[i]\n",
    "    return dic"
   ]
  },
  {
   "cell_type": "code",
   "execution_count": 37,
   "metadata": {},
   "outputs": [],
   "source": [
    "def consultaRegistro(ventas,idProducto):\n",
    "    l=len(ventas)\n",
    "    ndic={}\n",
    "    mensaje=''\n",
    "    for i in range (l):\n",
    "        if ventas[i][0]==idProducto:\n",
    "            ndic[i]=ventas[i]\n",
    "    l2=len(ndic)\n",
    "    if l2==0:\n",
    "        mensaje='No hay registro de venta de ese producto'\n",
    "    else:\n",
    "        for idProducto,dProducto,pnProducto,cvProducto,sProducto,nComprador,cComprador,fVenta in ndic.values():\n",
    "            mensaje += f'Producto consultado : {idProducto}  Descripción  {dProducto}  #Parte  {pnProducto}  Cantidad vendida  {cvProducto}  Stock  {sProducto}  Comprador {nComprador}  Documento  {cComprador}  Fecha Venta  {fVenta}\\n'\n",
    "            \n",
    "    print(mensaje)"
   ]
  },
  {
   "cell_type": "code",
   "execution_count": 38,
   "metadata": {},
   "outputs": [
    {
     "name": "stdout",
     "output_type": "stream",
     "text": [
      "Producto consultado : 2010  Descripción  bujía  #Parte  MS9512  Cantidad vendida  4  Stock  15  Comprador Carlos Rondon  Documento  1256  Fecha Venta  12/06/2020\n",
      "Producto consultado : 2010  Descripción  bujía  #Parte  ER6523  Cantidad vendida  9  Stock  36  Comprador Pedro Montes  Documento  1243  Fecha Venta  12/06/2020\n",
      "\n"
     ]
    }
   ],
   "source": [
    "consultaRegistro(AutoPartes([(2001,'rosca', 'PT29872',2,45,'Luis Molero',3456,'12/06/2020'),\n",
    " (2010,'bujía', 'MS9512',4,15,'Carlos Rondon',1256,'12/06/2020'),\n",
    " (2010,'bujía', 'ER6523',9,36,'Pedro Montes',1243,'12/06/2020'),\n",
    " (3578,'tijera', 'QW8523',1,128,'Pedro Faria',1456,'12/06/2020'),\n",
    " (9251,'piñón', 'EN5698',2,8,'Juan Peña',565,'12/06/2020')]), 2010)\n"
   ]
  },
  {
   "cell_type": "code",
   "execution_count": 23,
   "metadata": {},
   "outputs": [
    {
     "name": "stdout",
     "output_type": "stream",
     "text": [
      "No hay registro de venta de ese producto\n"
     ]
    }
   ],
   "source": [
    "consultaRegistro(AutoPartes([\n",
    " (5489,'tornillo', 'RS8512',2,33,'Julio Perez',3654213,'13/06/2020'),\n",
    " (3215,'zocalo', 'UM8587',2,125,'Laura Macias',1256321,'13/06/2020'),\n",
    " (3698,'biela', 'PT3218',1,78,'Luis Peña',14565487,'13/06/2020'),\n",
    " (8795,'cilindro', 'AZ8794',2,96,'Carlos Casio',5612405,'13/06/2020')]), 2001)"
   ]
  },
  {
   "cell_type": "code",
   "execution_count": 34,
   "metadata": {},
   "outputs": [
    {
     "name": "stdout",
     "output_type": "stream",
     "text": [
      "Producto consultado : 9852 Descripción Culata #Parte XC9875 Cantidad vendida 2 Stock 165 Comprador Luis Molero Documento 3455846 Fecha Venta 14/06/2020\n",
      "Producto consultado : 9852 Descripción Culata #Parte XC9875 Cantidad vendida 2 Stock 165 Comprador Jose Mejia Documento 1355846 Fecha Venta 14/06/2020\n",
      "\n"
     ]
    }
   ],
   "source": [
    "consultaRegistro(AutoPartes([\n",
    " (9852,'Culata', 'XC9875',2,165,'Luis Molero',3455846,'14/06/2020'),\n",
    " (9852,'Culata', 'XC9875',2,165,'Jose Mejia',1355846,'14/06/2020'),\n",
    " (2564,'Cárter', 'PT29872',2,32,'Peter Cerezo',8545436,'14/06/2020'),\n",
    " (5412,'válvula', 'AZ8798',2,11,'Juan Peña',568975,'14/06/2020')]),9852)"
   ]
  },
  {
   "cell_type": "code",
   "execution_count": 30,
   "metadata": {},
   "outputs": [
    {
     "name": "stdout",
     "output_type": "stream",
     "text": [
      "No hay registro de venta de ese producto\n"
     ]
    }
   ],
   "source": [
    "ventas=AutoPartes([\n",
    " (9852,'Culata', 'XC9875',2,165,'Luis Molero',3455846,'14/06/2020'),\n",
    " (9852,'Culata', 'XC9875',2,165,'Jose Mejia',1355846,'14/06/2020'),\n",
    " (2564,'Cárter', 'PT29872',2,32,'Peter Cerezo',8545436,'14/06/2020'),\n",
    " (5412,'válvula', 'AZ8798',2,11,'Juan Peña',568975,'14/06/2020')])\n",
    "\n",
    "idProducto=2010\n",
    "l=len(ventas)\n",
    "ndic={}\n",
    "mensaje=''\n",
    "for i in range (l):\n",
    "    if ventas[i][0]==idProducto:\n",
    "        ndic[i]=ventas[i]\n",
    "l2=len(ndic)\n",
    "if l2==0:\n",
    "    mensaje='No hay registro de venta de ese producto'\n",
    "else:\n",
    "    for idProducto,dProducto,pnProducto,cvProducto,sProducto,nComprador,cComprador,fVenta in ndic.values():\n",
    "        mensaje += f'Producto consultado : {idProducto} Descripción {dProducto} #Parte {pnProducto} Cantidad vendida {cvProducto} Stock {sProducto} Comprador {nComprador} Documento {cComprador} Fecha Venta {fVenta}\\n'\n",
    "print(mensaje)"
   ]
  },
  {
   "cell_type": "code",
   "execution_count": 31,
   "metadata": {},
   "outputs": [
    {
     "data": {
      "text/plain": [
       "{0: (9852, 'Culata', 'XC9875', 2, 165, 'Luis Molero', 3455846, '14/06/2020'),\n",
       " 1: (9852, 'Culata', 'XC9875', 2, 165, 'Jose Mejia', 1355846, '14/06/2020'),\n",
       " 2: (2564, 'Cárter', 'PT29872', 2, 32, 'Peter Cerezo', 8545436, '14/06/2020'),\n",
       " 3: (5412, 'válvula', 'AZ8798', 2, 11, 'Juan Peña', 568975, '14/06/2020')}"
      ]
     },
     "execution_count": 31,
     "metadata": {},
     "output_type": "execute_result"
    }
   ],
   "source": [
    "AutoPartes([\n",
    " (9852,'Culata', 'XC9875',2,165,'Luis Molero',3455846,'14/06/2020'),\n",
    " (9852,'Culata', 'XC9875',2,165,'Jose Mejia',1355846,'14/06/2020'),\n",
    " (2564,'Cárter', 'PT29872',2,32,'Peter Cerezo',8545436,'14/06/2020'),\n",
    " (5412,'válvula', 'AZ8798',2,11,'Juan Peña',568975,'14/06/2020')])"
   ]
  },
  {
   "cell_type": "code",
   "execution_count": null,
   "metadata": {},
   "outputs": [],
   "source": [
    "def AutoPartes(ventas:list):\n",
    "    dic={}\n",
    "    l=len(ventas)\n",
    "    for i in range(l):\n",
    "        dic[i]=ventas[i]\n",
    "    return dic\n",
    "def consultaRegistro(ventas,idProducto):\n",
    "    l=len(ventas)\n",
    "    ndic={}\n",
    "    mensaje=''\n",
    "    for i in range (l):\n",
    "        if ventas[i][0]==idProducto:\n",
    "            ndic[i]=ventas[i]\n",
    "    l2=len(ndic)\n",
    "    if l2==0:\n",
    "        mensaje='No hay registro de venta de ese producto'\n",
    "    else:\n",
    "        for idProducto,dProducto,pnProducto,cvProducto,sProducto,nComprador,cComprador,fVenta in ndic.values():\n",
    "            mensaje += f'Producto consultado : {idProducto}  Descripción  {dProducto}  #Parte  {pnProducto}  Cantidad vendida  {cvProducto}  Stock  {sProducto}  Comprador {nComprador}  Documento  {cComprador}  Fecha Venta  {fVenta}\\n'\n",
    "            \n",
    "    print(mensaje)"
   ]
  }
 ],
 "metadata": {
  "interpreter": {
   "hash": "54b979d01b6d2c57857864e6e49e83a8c0a75cd18f2fc727f4fa39872cb8b9a7"
  },
  "kernelspec": {
   "display_name": "Python 3.10.4 64-bit",
   "language": "python",
   "name": "python3"
  },
  "language_info": {
   "codemirror_mode": {
    "name": "ipython",
    "version": 3
   },
   "file_extension": ".py",
   "mimetype": "text/x-python",
   "name": "python",
   "nbconvert_exporter": "python",
   "pygments_lexer": "ipython3",
   "version": "3.10.4"
  },
  "orig_nbformat": 4
 },
 "nbformat": 4,
 "nbformat_minor": 2
}
