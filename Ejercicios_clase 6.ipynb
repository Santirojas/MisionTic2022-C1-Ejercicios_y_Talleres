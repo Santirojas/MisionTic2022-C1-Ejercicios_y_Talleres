{
 "cells": [
  {
   "cell_type": "markdown",
   "metadata": {},
   "source": [
    "## Ejercicios Clase 6"
   ]
  },
  {
   "cell_type": "markdown",
   "metadata": {},
   "source": [
    "1. Diseñe un algoritmo que reciba una nota definitiva entre 0.0 y 5.0. El algoritmo debe imprimir el valor ingresado, y de ser una nota mayor o igual a 4.0, deberá imprimir un mensaje de felicitaciones."
   ]
  },
  {
   "cell_type": "code",
   "execution_count": 6,
   "metadata": {},
   "outputs": [
    {
     "name": "stdout",
     "output_type": "stream",
     "text": [
      "Nota invalida, debe estar en un rango de 0 a 5\n",
      "Nota invalida, debe estar en un rango de 0 a 5\n",
      "La nota final es 3.5\n",
      "La nota final es 4 ¡¡¡¡Felicitaciones!!!\n"
     ]
    }
   ],
   "source": [
    "def NotaFinal(nota:float)->str:\n",
    "    mensaje = 'Nota invalida, debe estar en un rango de 0 a 5' if nota>5.0 or nota<0.0 else f'La nota final es {nota}' if nota<4.0 else f'La nota final es {nota} ¡¡¡¡Felicitaciones!!!'\n",
    "    return mensaje\n",
    "print(NotaFinal(-2))\n",
    "print(NotaFinal(6))\n",
    "print(NotaFinal(3.5))\n",
    "print(NotaFinal(4))\n",
    "   "
   ]
  },
  {
   "cell_type": "markdown",
   "metadata": {},
   "source": [
    "2. Diseñe un algoritmo que reciba una nota definitiva entre 0.0 y 5.0. El algoritmo debe imprimir el valor ingresado, y un mensaje que indique si el estudiante “Ganó el curso” o “Perdió el curso”. Se gana el curso solo si la nota definitiva es mayor o igual a 3.0."
   ]
  },
  {
   "cell_type": "code",
   "execution_count": 7,
   "metadata": {},
   "outputs": [
    {
     "name": "stdout",
     "output_type": "stream",
     "text": [
      "Nota invalida, debe estar en un rango de 0 a 5\n",
      "Nota invalida, debe estar en un rango de 0 a 5\n",
      "Ganó el curso\n",
      "Perdió el curso\n"
     ]
    }
   ],
   "source": [
    "def Gano_Perdio(nota:float)->str:\n",
    "    mensaje = 'Nota invalida, debe estar en un rango de 0 a 5' if nota>5.0 or nota<0.0 else 'Ganó el curso' if nota>=3.0 else 'Perdió el curso'\n",
    "    return mensaje\n",
    "print(Gano_Perdio(-1))\n",
    "print(Gano_Perdio(5.1))\n",
    "print(Gano_Perdio(3))\n",
    "print(Gano_Perdio(2.8))"
   ]
  },
  {
   "cell_type": "markdown",
   "metadata": {},
   "source": [
    "3. Diseñe un algoritmo que permita solicitar tanto el nombre como la edad de una persona y posteriormente indicar si es “Mayor de edad” o “Menor de edad” según la información ingresada. Una persona se considera mayor de edad si tiene 18 años o más."
   ]
  },
  {
   "cell_type": "code",
   "execution_count": 19,
   "metadata": {},
   "outputs": [
    {
     "name": "stdout",
     "output_type": "stream",
     "text": [
      "La persona Santiago con 22 años es mayor de edad\n",
      "La persona María con 17 años es menor de edad\n",
      "La persona Pedro con 18 años es mayor de edad\n"
     ]
    }
   ],
   "source": [
    "def Mayor_Menor(nombre,edad:int)->str:\n",
    "    mensaje=f'La persona {nombre.capitalize()} con {edad} años es mayor de edad' if edad>=18 else f'La persona {nombre.capitalize()} con {edad} años es menor de edad'\n",
    "    return mensaje\n",
    "print(Mayor_Menor('santiago',22))\n",
    "print(Mayor_Menor('maría',17))\n",
    "print(Mayor_Menor('pedro',18))\n",
    "    "
   ]
  },
  {
   "cell_type": "markdown",
   "metadata": {},
   "source": [
    "4. Diseñe un algoritmo que determina si un número es par o impar. Recuerde que un número es par si el resto de una división entera con el número 2 es cero."
   ]
  },
  {
   "cell_type": "code",
   "execution_count": 20,
   "metadata": {},
   "outputs": [
    {
     "name": "stdout",
     "output_type": "stream",
     "text": [
      "El número 2 es par\n",
      "El número 1 es inpar\n",
      "El número -4 es par\n",
      "El número 5 es inpar\n"
     ]
    }
   ],
   "source": [
    "def espar(numero:int)->str:\n",
    "    return f'El número {numero} es par' if numero%2==0 else f'El número {numero} es inpar'\n",
    "print(espar(2))\n",
    "print(espar(1))\n",
    "print(espar(-4))\n",
    "print(espar(5))\n",
    "    "
   ]
  },
  {
   "cell_type": "markdown",
   "metadata": {},
   "source": [
    "5. Diseñe un algoritmo que determine si un número real (x) se encuentra dentro del rango abierto-cerrado (3.5, 7.8]."
   ]
  },
  {
   "cell_type": "code",
   "execution_count": 21,
   "metadata": {},
   "outputs": [
    {
     "name": "stdout",
     "output_type": "stream",
     "text": [
      "El número 3.5 está por fuera del rango abierto-cerrado (3.5,7.8]\n",
      "El número 7.8 se encuentra en el rango abierto-cerrado (3.5,7.8]\n",
      "El número 3 está por fuera del rango abierto-cerrado (3.5,7.8]\n",
      "El número 7.9 está por fuera del rango abierto-cerrado (3.5,7.8]\n",
      "El número 4 se encuentra en el rango abierto-cerrado (3.5,7.8]\n"
     ]
    }
   ],
   "source": [
    "def enelrango(numero:float)->str:\n",
    "    return f'El número {numero} se encuentra en el rango abierto-cerrado (3.5,7.8]' if numero>3.5 and numero<=7.8 else f'El número {numero} está por fuera del rango abierto-cerrado (3.5,7.8]'\n",
    "\n",
    "print(enelrango(3.5))\n",
    "print(enelrango(7.8))\n",
    "print(enelrango(3))\n",
    "print(enelrango(7.9))\n",
    "print(enelrango(4))\n"
   ]
  },
  {
   "cell_type": "markdown",
   "metadata": {},
   "source": [
    "6. Diseñe un algoritmo que determine si un número real (x) se encuentra dentro de uno de los siguientes rangos: (3.5, 7.8], [9.3, 4.5) y [23.4, 45.3]."
   ]
  },
  {
   "cell_type": "code",
   "execution_count": 29,
   "metadata": {},
   "outputs": [
    {
     "name": "stdout",
     "output_type": "stream",
     "text": [
      "El número -2 no está en niguno de los rangos: (3.5, 7.8], [9.3, 4.5) y [23.4, 45.3]\n",
      "El número 1 no está en niguno de los rangos: (3.5, 7.8], [9.3, 4.5) y [23.4, 45.3]\n",
      "El número 3.5 no está en niguno de los rangos: (3.5, 7.8], [9.3, 4.5) y [23.4, 45.3]\n",
      "El número 3.6 se encuentra en el rango abierto-cerrado (3.5,7.8]\n",
      "El número 7.8 se encuentra en el rango abierto-cerrado (3.5,7.8]\n",
      "El número 7.9 se encuentra en el rango cerrado-cerrado [9.3,4.5]\n",
      "El número 10 no está en niguno de los rangos: (3.5, 7.8], [9.3, 4.5) y [23.4, 45.3]\n",
      "El número 23.4 se encuentra en el rango cerrado-cerrado [23.4,45.3]\n"
     ]
    }
   ],
   "source": [
    "def variosrangos(numero:float)->str:\n",
    "    return enelrango(numero) if numero>3.5 and numero<=7.8 else f'El número {numero} se encuentra en el rango cerrado-cerrado [9.3,4.5]' if numero>=4.5 and numero<=9.3 else f'El número {numero} se encuentra en el rango cerrado-cerrado [23.4,45.3]' if numero>=23.4 and numero<=45.3 else f'El número {numero} no está en niguno de los rangos: (3.5, 7.8], [9.3, 4.5) y [23.4, 45.3]'\n",
    "print(variosrangos(-2))\n",
    "print(variosrangos(1))\n",
    "print(variosrangos(3.5))\n",
    "print(variosrangos(3.6))\n",
    "print(variosrangos(7.8))\n",
    "print(variosrangos(7.9))\n",
    "print(variosrangos(10))\n",
    "print(variosrangos(23.4))\n"
   ]
  },
  {
   "cell_type": "markdown",
   "metadata": {},
   "source": [
    "7. Diseñe un algoritmo que permita imprimir un mensaje según un carácter dado por el usuario, independiente que sea ingresado en mayúscula o minúscula, según la Tabla:\n",
    "\n",
    "| Carácter | Mensaje a imprimir |\n",
    "|----------|--------------------|\n",
    "|   'a'    | Android            |\n",
    "|   'i'    | IOS                |\n",
    "|   otro   | Opción inválida    |"
   ]
  },
  {
   "cell_type": "code",
   "execution_count": 38,
   "metadata": {},
   "outputs": [
    {
     "name": "stdout",
     "output_type": "stream",
     "text": [
      "IOS\n",
      "Android\n",
      "Opción inválida\n"
     ]
    }
   ],
   "source": [
    "def mensaje_SO():\n",
    "    caracter=str(input('Ingrese el carácter de su preferencia (a o i): '))\n",
    "    return 'Android' if caracter.lower().strip()=='a' else'IOS' if caracter.lower().strip()=='i' else 'Opción inválida'\n",
    "print(mensaje_SO())\n",
    "print(mensaje_SO())\n",
    "print(mensaje_SO())"
   ]
  },
  {
   "cell_type": "markdown",
   "metadata": {},
   "source": [
    "8. Diseñe un algoritmo que permita imprimir un mensaje según la nota definitiva de un estudiante entre 0.0 y 5.0, de acuerdo con la Tabla:\n",
    "\n",
    "| nota     | Mensaje a imprimir |\n",
    "|----------|--------------------|\n",
    "|  < 3.0   | Insuficiente       |\n",
    "|  <= 3.5  | Aceptable          |\n",
    "|  <= 4.0  | Sobresaliente      |\n",
    "|  <= 5.0  | Excelente          |"
   ]
  },
  {
   "cell_type": "code",
   "execution_count": 48,
   "metadata": {},
   "outputs": [
    {
     "name": "stdout",
     "output_type": "stream",
     "text": [
      "Nota fuera de rango\n",
      "Insuficiente\n",
      "Insuficiente\n",
      "Aceptable\n",
      "Sobresaliente\n",
      "Excelente\n",
      "Nota fuera de rango\n"
     ]
    }
   ],
   "source": [
    "def nota_def(nota:float):\n",
    "    return 'Nota fuera de rango'if nota<0 or nota>5 else 'Insuficiente' if nota<3.0 and nota>=0 else 'Aceptable' if nota<=3.5 else 'Sobresaliente' if nota<=4.5 else 'Excelente' \n",
    "\n",
    "print(nota_def(-1))\n",
    "print(nota_def(0))\n",
    "print(nota_def(2.5))\n",
    "print(nota_def(3.5))\n",
    "print(nota_def(4.2))\n",
    "print(nota_def(5))\n",
    "print(nota_def(5.1))\n"
   ]
  },
  {
   "cell_type": "markdown",
   "metadata": {},
   "source": [
    "9. Diseñe un algoritmo que determine mayor número entre cuatro posibles números."
   ]
  },
  {
   "cell_type": "code",
   "execution_count": 51,
   "metadata": {},
   "outputs": [
    {
     "name": "stdout",
     "output_type": "stream",
     "text": [
      "El número mayor es el 4\n"
     ]
    }
   ],
   "source": [
    "def mayor(n1,n2,n3,n4):\n",
    "    return f'El número mayor es el {max(n1,n2,n3,n4)}'\n",
    "print(mayor(1,2,3,4))\n",
    "    "
   ]
  },
  {
   "cell_type": "markdown",
   "metadata": {},
   "source": [
    "10. La oficina de aguas de la ciudad requiere crear un algoritmo que le permita liquidar las facturas de sus clientes durante cada mes. El cobro de cada factura se realiza de la siguiente forma: se cobra el cargo fijo, el consumo de agua en el periodo, es decir, la cantidad de metros consumidos y el servicio de recolección de basuras y alcantarillado. Construya un algoritmo que, al ingresarle es estrato socio-económico del predio y la cantidad de metros cúbicos de agua consumidos, permita determinar el valor de la factura a pagar. Todos estos cobros se llevan a cabo dependiendo del estrato socioeconómico al que pertenezca el predio, de acuerdo con la siguiente tabla:\n",
    "\n",
    "|Estrato|Cargo Fijo|Metro3 consumido|Basuras y alcantarillado|\n",
    "|-------|-----|-----|------|\n",
    "|1      |$2500|$2200|$5500 |\n",
    "|2      |$2800|$2350|$6200 |\n",
    "|3      |$3000|$2600|$7400 |\n",
    "|4      |$3300|$3400|$8600 |\n",
    "|5      |$3700|$3900|$9700 |\n",
    "|6      |$4400|$4800|$11000|"
   ]
  },
  {
   "cell_type": "code",
   "execution_count": 56,
   "metadata": {},
   "outputs": [
    {
     "name": "stdout",
     "output_type": "stream",
     "text": [
      "El valor de la factura a pagar es 74000\n",
      "El valor de la factura a pagar es 79500\n",
      "El valor de la factura a pagar es 88400\n",
      "El valor de la factura a pagar es 113900\n",
      "El valor de la factura a pagar es 130400\n",
      "El valor de la factura a pagar es 159400\n",
      "Estrato no válido\n",
      "Estrato no válido\n"
     ]
    }
   ],
   "source": [
    "def valor_pagar(estrato:int,consumo:float):\n",
    "    if estrato>6 or estrato<1:\n",
    "        return 'Estrato no válido' \n",
    "    if consumo<0:\n",
    "        return 'Consumo no válido'\n",
    "    cobro=0\n",
    "    if estrato==1:\n",
    "        cobro=consumo*2200 +2500+5500\n",
    "    elif estrato==2:\n",
    "        cobro=consumo*2350 +2800+6200\n",
    "    elif estrato==3:\n",
    "        cobro=consumo*2600 +3000+7400\n",
    "    elif estrato==4:\n",
    "        cobro=consumo*3400 +3300+8600\n",
    "    elif estrato==5:\n",
    "        cobro=consumo*3900 +3700+9700\n",
    "    elif estrato==6:\n",
    "        cobro=consumo*4800 +4400+11000\n",
    "    return f'El valor de la factura a pagar es {cobro}'\n",
    "\n",
    "print(valor_pagar(1,30)) \n",
    "print(valor_pagar(2,30))\n",
    "print(valor_pagar(3,30)) \n",
    "print(valor_pagar(4,30)) \n",
    "print(valor_pagar(5,30)) \n",
    "print(valor_pagar(6,30))\n",
    "print(valor_pagar(-1,30))\n",
    "print(valor_pagar(7,30)) \n"
   ]
  },
  {
   "cell_type": "markdown",
   "metadata": {},
   "source": [
    "11. La oficina de incorporación del ejército necesita un algoritmo que le pueda permitir saber si un aspirante a ingresar a la institución como soldado es apto o no para poder vincularlo. Para que una persona sea apta, debe cumplir los siguientes requisitos:\n",
    "* Si es mujer, su estatura debe ser superior a 1.60 mts y su edad debe estar entre 20 y 25 años.\n",
    "* Si el aspirante es hombre, se estatura debe ser superior a 1.65 mts y su edad debe estar entre los 18 y 24 años.\n",
    "\n",
    "  Tanto mujeres como hombres deben ser solteros. Diseñe el algoritmo de tal forma que permita informar si un aspirante es apto o no para ingresar al ejercito.\n"
   ]
  },
  {
   "cell_type": "code",
   "execution_count": 62,
   "metadata": {},
   "outputs": [
    {
     "name": "stdout",
     "output_type": "stream",
     "text": [
      "El aspirante es apto\n",
      "El aspirante es apto\n",
      "El aspirante no es apto\n",
      "El aspirante no es apto\n",
      "No apto/a\n",
      "La aspirante no es apta\n",
      "La aspirante es apta\n",
      "La aspirante no es apta\n",
      "La aspirante es apta\n",
      "No apto/a\n"
     ]
    }
   ],
   "source": [
    "def soldado(sexo:str,estatura:float,edad:int,estado:str):\n",
    "    if estado=='soltero' or estado=='soltera':\n",
    "        if sexo=='mujer':\n",
    "            if  estatura>=1.6 and(edad>=20 and edad<=25): \n",
    "                return 'La aspirante es apta'\n",
    "            else:\n",
    "                return 'La aspirante no es apta' \n",
    "        elif sexo=='hombre':\n",
    "            if  estatura>=1.65 and(edad>=18 and edad<=24): \n",
    "                return 'El aspirante es apto'\n",
    "            else:\n",
    "                return 'El aspirante no es apto' \n",
    "    else:\n",
    "        return 'No apto/a'\n",
    "print(soldado('hombre',1.66,18,'soltero'))\n",
    "print(soldado('hombre',1.65,18,'soltero'))\n",
    "print(soldado('hombre',1.70,25,'soltero'))\n",
    "print(soldado('hombre',1.70,17,'soltero'))\n",
    "print(soldado('hombre',1.70,17,'casado'))\n",
    "print(soldado('mujer',1.50,20,'soltera'))\n",
    "print(soldado('mujer',1.60,21,'soltera'))\n",
    "print(soldado('mujer',1.65,18,'soltera'))\n",
    "print(soldado('mujer',1.66,25,'soltera'))\n",
    "print(soldado('mujer',1.66,23,'casada'))\n",
    "        \n",
    "    \n",
    "    "
   ]
  },
  {
   "cell_type": "markdown",
   "metadata": {},
   "source": [
    "## Diccionarios\n",
    "Tres mejores amigos están en el autocine. En Autocinema Ukumarí, han patentado un sistema de servicio de gaseosas por botones, en el que se puede servir una cantidad predeterminada de gaseosa según el botón presionado. Cada uno de ellos tiene un vaso con una capacidad dada, y ya han llenado un cierto nivel del vaso. Como son mejores amigos, ellos quieren oprimir el mismo siguiente botón para servirse una cantidad fija de gaseosa en sus respectivos vasos. No obstante, no quieren que se les riegue la gaseosa, porque consideran que sería un desperdicio.  \n",
    "\n",
    "Dadas la capacidad máxima de cada uno de los vasos, así como su capacidad actual, y el usuario al que pertenecen, escriba una función que determine el nombre de la persona a la que se le regaría algo de gaseosa, si se sirve la capacidad fija dada. Si a ninguno se le riega la gaseosa, retorne None. Si se le riega la gaseosa a más de uno, retorne el primero en orden de parámetros pasados a la función (es decir, primero llena el amigo 1, luego el 2, luego el 3).\n",
    "\n",
    "**Nombre de la función**: desperdicio_de_gaseosa\n",
    "\n",
    "**Parámetros**  \n",
    "|Nombre|Tipo|Descripción|\n",
    "|-------|-----|-----|\n",
    "|amigo_1|dict|Un diccionario con las siguientes llaves: \"nombre\", el nombre del amigo, (str) \"capacidad_vaso\", la capacidad máxima de su vaso, (float) \"capacidad_actual\", la capacidad que ha sido llenada de su vaso hasta el momento (float)|\n",
    "|amigo_2|dict|Un diccionario con las siguientes llaves: \"nombre\", el nombre del amigo, (str) \"capacidad_vaso\", la capacidad máxima de su vaso, (float) \"capacidad_actual\", la capacidad que ha sido llenada de su vaso hasta el momento (float)|\n",
    "|amigo_3|dict|Un diccionario con las siguientes llaves: \"nombre\", el nombre del amigo, (str) \"capacidad_vaso\", la capacidad máxima de su vaso, (float) \"capacidad_actual\", la capacidad que ha sido llenada de su vaso hasta el momento (float)|\n",
    "|capacidad_boton|float|La cantidad de gaseosa que se servirá si los amigos deciden oprimir el botón correspondiente.|\n",
    "\n",
    "|Tipo del retorno|Descripción del retorno|\n",
    "|-------|-----|\n",
    "|str|El nombre del amigo a quien se le riega primero la gaseosa, suponiendo un orden ascendente en cuanto a que amigo llena primero su vaso. (Es decir, primero llena el amigo 1, luego el 2, luego el 3) Si a ningun amigo se le riega la gaseosa, retorne None. Si a más de un amigo se le riega la gaseosa, retorna el primero."
   ]
  },
  {
   "cell_type": "code",
   "execution_count": 90,
   "metadata": {},
   "outputs": [],
   "source": [
    "def desperdicio_de_gaseosa(amigo_1:dict,amigo_2:dict,amigo_3:dict,capacidad_boton:float)->str:\n",
    "    lista=[amigo_1,amigo_2,amigo_3]\n",
    "    \n",
    "    for diccionario in lista:\n",
    "        if (diccionario['capacidad_vaso']-diccionario['capacidad_actual'])<capacidad_boton:\n",
    "            diccionario['desperdicia']=True\n",
    "        else:\n",
    "            diccionario['desperdicia']=False\n",
    "    nl=list(map(lambda x:x['desperdicia'],lista))\n",
    "    if (any(nl)):\n",
    "        ind=(nl.index(True))\n",
    "        return f\"El primer amigo al que se le riega la gasesosa es a {lista[ind]['nombre']}\"\n",
    "    else:\n",
    "        return None\n",
    "    "
   ]
  },
  {
   "cell_type": "code",
   "execution_count": 92,
   "metadata": {},
   "outputs": [
    {
     "name": "stdout",
     "output_type": "stream",
     "text": [
      "El primer amigo al que se le riega la gasesosa es a Valentina\n"
     ]
    }
   ],
   "source": [
    "amigo1={'nombre':'Santiago','capacidad_vaso':1500,'capacidad_actual':250}\n",
    "amigo2={'nombre':'Carlos','capacidad_vaso':1200,'capacidad_actual':0}\n",
    "amigo3={'nombre':'Valentina','capacidad_vaso':1300,'capacidad_actual':500}\n",
    "boton=1200\n",
    "print(desperdicio_de_gaseosa(amigo1,amigo2,amigo3,boton))"
   ]
  },
  {
   "cell_type": "code",
   "execution_count": 93,
   "metadata": {},
   "outputs": [
    {
     "name": "stdout",
     "output_type": "stream",
     "text": [
      "None\n"
     ]
    }
   ],
   "source": [
    "amigo1={'nombre':'Santiago','capacidad_vaso':1500,'capacidad_actual':250}\n",
    "amigo2={'nombre':'Carlos','capacidad_vaso':1200,'capacidad_actual':0}\n",
    "amigo3={'nombre':'Valentina','capacidad_vaso':1300,'capacidad_actual':100}\n",
    "boton=1200\n",
    "print(desperdicio_de_gaseosa(amigo1,amigo2,amigo3,boton))"
   ]
  },
  {
   "cell_type": "code",
   "execution_count": null,
   "metadata": {},
   "outputs": [],
   "source": []
  }
 ],
 "metadata": {
  "kernelspec": {
   "display_name": "Python 3.10.4 64-bit",
   "language": "python",
   "name": "python3"
  },
  "language_info": {
   "codemirror_mode": {
    "name": "ipython",
    "version": 3
   },
   "file_extension": ".py",
   "mimetype": "text/x-python",
   "name": "python",
   "nbconvert_exporter": "python",
   "pygments_lexer": "ipython3",
   "version": "3.10.4"
  },
  "orig_nbformat": 4,
  "vscode": {
   "interpreter": {
    "hash": "54b979d01b6d2c57857864e6e49e83a8c0a75cd18f2fc727f4fa39872cb8b9a7"
   }
  }
 },
 "nbformat": 4,
 "nbformat_minor": 2
}
