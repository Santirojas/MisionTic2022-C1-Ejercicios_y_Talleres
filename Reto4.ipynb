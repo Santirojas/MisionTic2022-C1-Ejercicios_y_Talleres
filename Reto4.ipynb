{
 "cells": [
  {
   "cell_type": "code",
   "execution_count": 3,
   "metadata": {},
   "outputs": [],
   "source": [
    "def ordenes(rutinaContable):\n",
    "    from functools import reduce\n",
    "    l=len(rutinaContable)\n",
    "    a=lambda tupla:tupla[1]*tupla[2]\n",
    "    mensaje='------------------------ Inicio Registro diario ---------------------------------\\n'\n",
    "    for i in range(l):\n",
    "        n=len(rutinaContable[i])\n",
    "        nlista=[]\n",
    "        for j in range(1,n):\n",
    "            nlista.append(rutinaContable[i][j])\n",
    "        nfactura=rutinaContable[i][0]\n",
    "        total=(reduce(lambda acumulador=0,elemento=0:acumulador+elemento,list(map(a,nlista))))\n",
    "        if total <600000:\n",
    "            total=total+25000\n",
    "        mensaje=mensaje+f'La factura {nfactura} tiene un total en pesos de {total:,.2f}\\n'\n",
    "    mensaje=mensaje+'-------------------------- Fin Registro diario ----------------------------------'\n",
    "    print(mensaje)\n",
    "    "
   ]
  },
  {
   "cell_type": "code",
   "execution_count": 5,
   "metadata": {},
   "outputs": [
    {
     "name": "stdout",
     "output_type": "stream",
     "text": [
      "------------------------ Inicio Registro diario ---------------------------------\n",
      "La factura 1201 tiene un total en pesos de 962,529.33\n",
      "La factura 1202 tiene un total en pesos de 413,477.56\n",
      "La factura 1203 tiene un total en pesos de 443,859.80\n",
      "La factura 1204 tiene un total en pesos de 27,247.57\n",
      "-------------------------- Fin Registro diario ----------------------------------\n"
     ]
    }
   ],
   "source": [
    "c=[[1201, (\"5464\", 4, 25842.99), (\"7854\",18,23254.99), (\"8521\", 9, 48951.95)],\n",
    " [1202, (\"8756\", 3, 115362.58),(\"1112\",18,2354.99)],\n",
    " [1203, (\"2547\", 1, 125698.20), (\"2635\", 2, 135645.20), (\"1254\", 1, 13645.20),(\"9965\", 5, 1645.20)],\n",
    " [1204, (\"9635\", 7, 11.99), (\"7733\",11,18.99), (\"88112\", 5, 390.95)]] \n",
    "d=[\n",
    " [6589, (\"9874\", 1, 125698.20), (\"88112\", 2, 135645.20), (\"3218\", 4, 13645.20)],\n",
    " [6590, (\"5236\", 8, 11.99), (\"7733\",11,18.99), (\"88112\", 5, 390.95)],\n",
    " [6591, (\"7812\", 2, 11.99), (\"9652\",11,18.99)] ]\n",
    "e=[\n",
    " [6587, (\"3268\", 4, 25842.99), (\"8274\",18,23254.99), (\"6548\", 9, 48951.95), (\"2547\", 5, 8951.95)],[6588, (\"1254\", 3, 115362.58), (\"9744\", 2, 99235.66)], ]\n",
    "ordenes(c)"
   ]
  },
  {
   "cell_type": "code",
   "execution_count": null,
   "metadata": {},
   "outputs": [],
   "source": []
  }
 ],
 "metadata": {
  "interpreter": {
   "hash": "54b979d01b6d2c57857864e6e49e83a8c0a75cd18f2fc727f4fa39872cb8b9a7"
  },
  "kernelspec": {
   "display_name": "Python 3.10.4 64-bit",
   "language": "python",
   "name": "python3"
  },
  "language_info": {
   "codemirror_mode": {
    "name": "ipython",
    "version": 3
   },
   "file_extension": ".py",
   "mimetype": "text/x-python",
   "name": "python",
   "nbconvert_exporter": "python",
   "pygments_lexer": "ipython3",
   "version": "3.10.4"
  },
  "orig_nbformat": 4
 },
 "nbformat": 4,
 "nbformat_minor": 2
}
