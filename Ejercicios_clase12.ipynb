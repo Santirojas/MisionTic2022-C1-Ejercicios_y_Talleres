{
 "cells": [
  {
   "cell_type": "markdown",
   "metadata": {},
   "source": [
    "## Ejericios clase 12"
   ]
  },
  {
   "cell_type": "markdown",
   "metadata": {},
   "source": [
    "## List Comprehension\n",
    "\n",
    "### Ejercicio 1\n",
    "Necesitamos crear una lista de enteros que contenga la longitud de cada palabra en una frase, pero solo si la palabra no es \"el\".  \n",
    "La frase es: `\"el rápido zorro marrón salta sobre el perro perezoso\"`\n"
   ]
  },
  {
   "cell_type": "code",
   "execution_count": 17,
   "metadata": {},
   "outputs": [
    {
     "name": "stdout",
     "output_type": "stream",
     "text": [
      "[6, 5, 6, 5, 5, 5, 8]\n"
     ]
    }
   ],
   "source": [
    "frase1='el rápido zorro marrón salta sobre el perro perezoso'\n",
    "def longitud_palabra(frase:str)->list:\n",
    "    return [len(x) for x in frase.split() if x!='el']\n",
    "\n",
    "print(longitud_palabra(frase1))"
   ]
  },
  {
   "cell_type": "markdown",
   "metadata": {},
   "source": [
    "### Ejercicio 2\n",
    "Crea una nueva lista que a partir de otra lista de números que contenga solo los números positivos de la lista, como enteros.  \n",
    "La lista es `numeros = [34.6, -203.4, 44.9, 68.3, -12.2, 44.6, 12.7]`"
   ]
  },
  {
   "cell_type": "code",
   "execution_count": 18,
   "metadata": {},
   "outputs": [
    {
     "name": "stdout",
     "output_type": "stream",
     "text": [
      "[34.6, 44.9, 68.3, 44.6, 12.7]\n"
     ]
    }
   ],
   "source": [
    "def numeros_positivos(lista:list)->list:\n",
    "    return [x for x  in lista if x>=0]\n",
    "numeros = [34.6, -203.4, 44.9, 68.3, -12.2, 44.6, 12.7]\n",
    "print(numeros_positivos(numeros))"
   ]
  },
  {
   "cell_type": "markdown",
   "metadata": {},
   "source": [
    "### Ejercicio 3\n",
    "Extraiga en un conjunto los dígitos que existen en una frase. La frase es `\"Hello 12345 World 5602\"`"
   ]
  },
  {
   "cell_type": "code",
   "execution_count": 2,
   "metadata": {},
   "outputs": [
    {
     "name": "stdout",
     "output_type": "stream",
     "text": [
      "{'3', '0', '1', '4', '6', '5', '2'}\n"
     ]
    }
   ],
   "source": [
    "def digitos_conjunto(frase:str)->set:\n",
    "    return {x for x in frase if x in '0123456789'}\n",
    "f=\"Hello 12345 World 5602\"\n",
    "print(digitos_conjunto(f))"
   ]
  },
  {
   "cell_type": "markdown",
   "metadata": {},
   "source": [
    "### Ejercicio 4\n",
    "Que valores generan las siguientes List Comprehensions\n",
    "* `[x**2 for x in range(10)]`\n",
    "* `[2**i for i in range(13)]`"
   ]
  },
  {
   "cell_type": "code",
   "execution_count": 4,
   "metadata": {},
   "outputs": [
    {
     "name": "stdout",
     "output_type": "stream",
     "text": [
      "[0, 1, 4, 9, 16, 25, 36, 49, 64, 81]\n",
      "[1, 2, 4, 8, 16, 32, 64, 128, 256, 512, 1024, 2048, 4096]\n"
     ]
    }
   ],
   "source": [
    "print([x**2 for x in range(10)])\n",
    "print([2**i for i in range(13)])"
   ]
  },
  {
   "cell_type": "markdown",
   "metadata": {},
   "source": [
    "### Ejercicio 5\n",
    "Cual sería la expresión List Comprehension para generar la siguiente lista: `[0, 1, 8, 27, 64, 125, 216, 343, 512, 729, 1000]`"
   ]
  },
  {
   "cell_type": "code",
   "execution_count": 6,
   "metadata": {},
   "outputs": [
    {
     "name": "stdout",
     "output_type": "stream",
     "text": [
      "[0, 1, 8, 27, 64, 125, 216, 343, 512, 729, 1000]\n"
     ]
    }
   ],
   "source": [
    "print([x**3 for x in range(11)])"
   ]
  },
  {
   "cell_type": "markdown",
   "metadata": {},
   "source": [
    "### Ejercicio 6\n",
    "Con la lista `frutas = ['mango', 'kiwi', 'fresa', 'guayaba', 'piña', 'mandarina', 'uva', 'banano']`generar otra con la cantidad de caracteres que tiene cada fruta: `[5, 4, 5, ...]"
   ]
  },
  {
   "cell_type": "code",
   "execution_count": 7,
   "metadata": {},
   "outputs": [
    {
     "name": "stdout",
     "output_type": "stream",
     "text": [
      "[5, 4, 5, 7, 4, 9, 3, 6]\n"
     ]
    }
   ],
   "source": [
    "frutas = ['mango', 'kiwi', 'fresa', 'guayaba', 'piña', 'mandarina', 'uva', 'banano']\n",
    "print([len(x) for x in frutas])"
   ]
  },
  {
   "cell_type": "markdown",
   "metadata": {},
   "source": [
    "### Ejercicio 7\n",
    "Con la lista `frutas = ['mango', 'kiwi', 'fresa', 'guayaba', 'piña', 'mandarina', 'uva', 'banano']`generar otra con las frutas que solo tengan exactamente 2 vocales: `['mango', 'kiwi', ...]`."
   ]
  },
  {
   "cell_type": "code",
   "execution_count": 14,
   "metadata": {},
   "outputs": [
    {
     "name": "stdout",
     "output_type": "stream",
     "text": [
      "['mango', 'kiwi', 'fresa', 'piña', 'uva']\n"
     ]
    }
   ],
   "source": [
    "frutas = ['mango', 'kiwi', 'fresa', 'guayaba', 'piña', 'mandarina', 'uva', 'banano']\n",
    "print([x for x in frutas if len(list(filter(lambda x: x if x in 'aeiou' else None, list(x))))==2])"
   ]
  },
  {
   "cell_type": "markdown",
   "metadata": {},
   "source": [
    "### Ejercicio 8 - Especial \n",
    "Crear una lista con los números primos que existen entre el 2 y el 100."
   ]
  },
  {
   "cell_type": "code",
   "execution_count": 71,
   "metadata": {},
   "outputs": [
    {
     "name": "stdout",
     "output_type": "stream",
     "text": [
      "[2, 3, 5, 7, 11, 13, 17, 19, 23, 29, 31, 37, 41, 43, 47, 53, 59, 61, 67, 71, 73, 79, 83, 89, 97]\n"
     ]
    }
   ],
   "source": [
    "print([x for x in range(2,100) if all(list(map(lambda y: x%y!=0,list(range(2,x)))))])"
   ]
  },
  {
   "cell_type": "code",
   "execution_count": null,
   "metadata": {},
   "outputs": [],
   "source": []
  }
 ],
 "metadata": {
  "kernelspec": {
   "display_name": "Python 3.10.4 64-bit",
   "language": "python",
   "name": "python3"
  },
  "language_info": {
   "codemirror_mode": {
    "name": "ipython",
    "version": 3
   },
   "file_extension": ".py",
   "mimetype": "text/x-python",
   "name": "python",
   "nbconvert_exporter": "python",
   "pygments_lexer": "ipython3",
   "version": "3.10.4"
  },
  "orig_nbformat": 4,
  "vscode": {
   "interpreter": {
    "hash": "54b979d01b6d2c57857864e6e49e83a8c0a75cd18f2fc727f4fa39872cb8b9a7"
   }
  }
 },
 "nbformat": 4,
 "nbformat_minor": 2
}
